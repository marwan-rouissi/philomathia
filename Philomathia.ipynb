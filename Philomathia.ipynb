{
 "cells": [
  {
   "cell_type": "markdown",
   "metadata": {
    "id": "mYr0YGpbJpWY"
   },
   "source": [
    "# Philomathia\n"
   ]
  },
  {
   "cell_type": "markdown",
   "metadata": {
    "id": "DDnH8RevvQ2-"
   },
   "source": [
    "Sommaire :\n",
    "* Algèbre linéaire\n",
    "* Probabilités et Statistique\n",
    "* Calcul de dérivée\n",
    "* Aller plus loin..."
   ]
  },
  {
   "cell_type": "markdown",
   "metadata": {
    "id": "mqYa4P1AYLF8"
   },
   "source": [
    "**Pourquoi Python pour les mathématiques ?**\n",
    "\n",
    "Le langage Python est un langage généraliste, offrant des bibliothèques puissantes en calcul numérique (NumPy, SciPy, SymPy, Matplotlib,...), facilitant les opérations mathématiques plus ou moins complexes, l'analyse statistique et la visualisation des données. Son interactivité via des environnements comme Jupyter Notebook favorise un processus de développement itératif.\n",
    "La communauté active de développeurs et les nombreuses ressources en ligne font de Python un outil incontournable."
   ]
  },
  {
   "cell_type": "markdown",
   "metadata": {
    "id": "hdEXFBsImr5q"
   },
   "source": [
    "**Pourquoi ce projet ?**\n",
    "\n",
    "Dans ce projet, nous allons aborder des notions de mathématiques basiques nécessaires à la prochaine Unit, le Machine Learning. Pas de panique, nous n'allons rien inventer, nous allons simplement utiliser Python afin de manipuler des vecteurs, des matrices, des probabilités, des graphes faire des simulations et d'autres calculs sympatiques !\n",
    "\n",
    "\\\n",
    "\n",
    "**Il n'est bien sûr pas question d'apprendre par coeur les notions apprises dans ce sujet, mais de s'en servir comme un guide pour d'éventuels futurs questionnements.**\n",
    "\n",
    "\\\n",
    "\n",
    "**Merci de lire et de répondre attentivement aux questions ci-dessous. Appuyez-vous sur les ressources de la base de connaissances.**"
   ]
  },
  {
   "cell_type": "markdown",
   "metadata": {
    "id": "s_6BNQr_fGrq"
   },
   "source": [
    "# Librairies utilisées"
   ]
  },
  {
   "cell_type": "code",
   "execution_count": 1,
   "metadata": {
    "id": "2WjXfJYMi0aA"
   },
   "outputs": [],
   "source": [
    "import numpy as np\n",
    "import pandas as pd\n",
    "import sympy as sp\n",
    "\n",
    "import matplotlib.pyplot as plt\n",
    "\n",
    "from sklearn.datasets import load_wine"
   ]
  },
  {
   "cell_type": "markdown",
   "metadata": {
    "id": "tMJvSpupa59E"
   },
   "source": [
    "# Algèbre linéaire\n",
    "Vous devrez exclusivement utiliser la librairie `numpy` dans la section suivante."
   ]
  },
  {
   "cell_type": "markdown",
   "metadata": {
    "id": "ralGJ7YaHXLm"
   },
   "source": [
    "## **Job 0**\n",
    "\n",
    "1. Créez le vecteur ligne $v = (4, 1, 9)$\n",
    "2. Additionnez, multipliez et divisez le vecteur $v$ par $2$  \n",
    "\n"
   ]
  },
  {
   "cell_type": "code",
   "execution_count": 2,
   "metadata": {
    "id": "_JUmL7sQMsCV",
    "tags": []
   },
   "outputs": [
    {
     "name": "stdout",
     "output_type": "stream",
     "text": [
      "Vecteur v:  [4 1 9]\n",
      "Addition de v par 2:  [ 6  3 11]\n",
      "Multiplication de v par 2:  [ 8  2 18]\n",
      "Division de v par 2:  [2.  0.5 4.5]\n"
     ]
    }
   ],
   "source": [
    "v = np.array([4, 1, 9])\n",
    "print(\"Vecteur v: \", v)\n",
    "print(\"Addition de v par 2: \", v + 2)\n",
    "print(\"Multiplication de v par 2: \", v * 2)\n",
    "print(\"Division de v par 2: \", v / 2)"
   ]
  },
  {
   "cell_type": "markdown",
   "metadata": {
    "id": "aheDJxhm1vNL"
   },
   "source": [
    "--------------------------------------------------------------------------------\n"
   ]
  },
  {
   "cell_type": "markdown",
   "metadata": {
    "id": "ZkcCZMIdMw5I"
   },
   "source": [
    "## **Job 1**\n",
    "Additionnez le vecteur $v$ avec le vecteur $w$, définie comme suit $w = (-1, -1, 0)$"
   ]
  },
  {
   "cell_type": "code",
   "execution_count": 3,
   "metadata": {
    "id": "Uf29sdXcM58l"
   },
   "outputs": [
    {
     "name": "stdout",
     "output_type": "stream",
     "text": [
      "Somme de v et w :  [3 0 9]\n"
     ]
    }
   ],
   "source": [
    "w = ([-1, -1, 0])\n",
    "print(\"Somme de v et w : \", v+w)"
   ]
  },
  {
   "cell_type": "markdown",
   "metadata": {
    "id": "ITMFuM1BgG6H"
   },
   "source": [
    "-----------------------------------------------------------------"
   ]
  },
  {
   "cell_type": "markdown",
   "metadata": {
    "id": "yIMtWbHTNgme"
   },
   "source": [
    "## **Job 2**\n",
    "Soient les matrices $M$ et $N$ définies comme suit :\n",
    "$$M = \\begin{pmatrix}\n",
    "1 & 2  \\\\\n",
    "5 & 6\n",
    "\\end{pmatrix},\\space N = \\begin{pmatrix}\n",
    "1 & 1 & -1  \\\\\n",
    "0 & 0 & 1\n",
    "\\end{pmatrix} $$\n",
    "\n",
    "1. Créez les matrices $M$ et $N$. Quelles sont les dimensions de chacune ? Sont-elles des matrices carrées ?\n",
    "2. Est-il possible d'additionner $M$ et $N$ ? Justifiez. Si oui, calculez l'addition.\n",
    "3. Est-il possible de faire le produit matriciel de M par N ? Justifiez. Si oui, calculez le produit.\n",
    "\n"
   ]
  },
  {
   "cell_type": "code",
   "execution_count": 4,
   "metadata": {
    "id": "smbJ7DPBfQxT"
   },
   "outputs": [
    {
     "name": "stdout",
     "output_type": "stream",
     "text": [
      "Matrice M:\n",
      " [[1 2]\n",
      " [5 6]]\n",
      "Matrice N:\n",
      " [[ 1  1 -1]\n",
      " [ 0  0  1]]\n",
      "\n",
      "1.\n",
      "dimmension de la matrice M:  2\n",
      "structure de la matrice M sous format (col, row):  (2, 2)\n",
      "la matrice M est une matrice carrée\n",
      "dimmension de la matrice N:  2\n",
      "structure de la matrice N sous format (col, row):  (2, 3)\n",
      "la matrice N n'est pas une matrice carrée\n",
      "\n",
      "2.\n",
      "Non, il n'est pas possible de faire la somme des deux matrices car ces dernières n'ont pas la même structure.\n",
      "\n",
      "3.\n",
      "Oui, le produit des deux matrices est possible car M contient autant de colonnes que N contient de lignes.\n",
      "Produit de M par N:\n",
      " [[1 1 1]\n",
      " [5 5 1]]\n"
     ]
    }
   ],
   "source": [
    "M = np.matrix([[1, 2],[5, 6]])\n",
    "N = np.matrix([[1, 1, -1],[0, 0, 1]])\n",
    "\n",
    "print(\"Matrice M:\\n\", M)\n",
    "print(\"Matrice N:\\n\", N)\n",
    "print(\"\")\n",
    "print(\"1.\")\n",
    "print(\"dimmension de la matrice M: \", M.ndim)\n",
    "print(\"structure de la matrice M sous format (col, row): \", M.shape)\n",
    "print(\"la matrice M est une matrice carrée\")\n",
    "print(\"dimmension de la matrice N: \", N.ndim)\n",
    "print(\"structure de la matrice N sous format (col, row): \", N.shape)\n",
    "print(\"la matrice N n'est pas une matrice carrée\")\n",
    "print(\"\")\n",
    "print(\"2.\")\n",
    "print(\"Non, il n'est pas possible de faire la somme des deux matrices car ces dernières n'ont pas la même structure.\")\n",
    "print(\"\")\n",
    "print(\"3.\")\n",
    "print(\"Oui, le produit des deux matrices est possible car M contient autant de colonnes que N contient de lignes.\")\n",
    "print(\"Produit de M par N:\\n\", M * N)"
   ]
  },
  {
   "cell_type": "markdown",
   "metadata": {
    "id": "bPsxeP6rfapL"
   },
   "source": [
    "-----------------------------------"
   ]
  },
  {
   "cell_type": "markdown",
   "metadata": {
    "id": "W5Vfaozbt7_a"
   },
   "source": [
    "## **Job 3**\n",
    "Soit la matrice suivante :\n",
    "$$A = \\begin{pmatrix}\n",
    "1 & 2 & 3 & 4 \\\\\n",
    "5 & 6 & 7 & 8 \\\\\n",
    "9 & 10 & 11 & 12 \\\\\n",
    "13 & 14 & 15 & 16\n",
    "\\end{pmatrix} $$\n",
    "\n",
    "1. Créez et affichez la matrice A\n",
    "\n",
    "2. Créez une copie $C$ de la matrice $A$\n",
    "\n",
    "3. Créez une copie superficielle $B$ de la matrice $A$, sans copier sa référence\n",
    "\n",
    "4. Affichez la valeur se trouvant à la ligne 2 et à la colonne 3\n",
    "\n",
    "5. Affichez tous les éléments de la $2^{ème}$ ligne\n",
    "\n",
    "6. Affichez tous les éléments de la $1^{ème}$ colonne\n",
    "\n",
    "7. Affichez la diagonale de $A$\n",
    "\n",
    "8. Multipliez la matrice $A$ par $\\frac{1}{2}$"
   ]
  },
  {
   "cell_type": "code",
   "execution_count": 5,
   "metadata": {
    "id": "OLlKmDT1gPsr"
   },
   "outputs": [
    {
     "name": "stdout",
     "output_type": "stream",
     "text": [
      "4.\n",
      "La valeur se trouvant à la ligne 2 et à la colonne 3 est:  7\n",
      "\n",
      "5.\n",
      "Les éléments de la 2è𝑚𝑒 ligne sont:\n",
      " [5 6 7 8]\n",
      "\n",
      "6.\n",
      "Les éléments de la 1ère colonne sont:\n",
      " [ 1  5  9 13]\n",
      "\n",
      "7.\n",
      "La diagonale es composée des éléments suivant:\n",
      " [ 1  6 11 16]\n",
      "\n",
      "8.\n",
      "Le produit de la matrice A par 1/2 donne:\n",
      " [[0.5 1.  1.5 2. ]\n",
      " [2.5 3.  3.5 4. ]\n",
      " [4.5 5.  5.5 6. ]\n",
      " [6.5 7.  7.5 8. ]]\n"
     ]
    }
   ],
   "source": [
    "A = np.arange(1, 17).reshape((4, 4))\n",
    "C = A\n",
    "B = np.copy(A)\n",
    "print(\"4.\")\n",
    "print(\"La valeur se trouvant à la ligne 2 et à la colonne 3 est: \", A[1][2])\n",
    "print(\"\")\n",
    "print(\"5.\")\n",
    "print(\"Les éléments de la 2è𝑚𝑒 ligne sont:\\n\", A[1])\n",
    "print(\"\")\n",
    "print(\"6.\")\n",
    "print(\"Les éléments de la 1ère colonne sont:\\n\", A.T[0])\n",
    "print(\"\")\n",
    "print(\"7.\")\n",
    "print(\"La diagonale es composée des éléments suivant:\\n\", A.diagonal())\n",
    "print(\"\")\n",
    "print(\"8.\")\n",
    "print(\"Le produit de la matrice A par 1/2 donne:\\n\", A * (1/2))"
   ]
  },
  {
   "cell_type": "markdown",
   "metadata": {
    "id": "egHy1WsBfUc0"
   },
   "source": [
    "-------------------------------------------------------"
   ]
  },
  {
   "cell_type": "markdown",
   "metadata": {
    "id": "7Tv1qDFOo0ID"
   },
   "source": [
    "## **Job 4**\n",
    "Considérons les matrices $A$ et $A_{bis}$ définies comme ci-dessous :\n",
    "\n",
    "$$ A = \\begin{pmatrix}\n",
    "1 & 5 & 3  \\\\\n",
    "2 & 4 & 7\n",
    "\\end{pmatrix}, \\space A_{bis} = \\begin{pmatrix}\n",
    "1 & 2  \\\\\n",
    "5 & 4 \\\\\n",
    "3 & 7\n",
    "\\end{pmatrix}$$\n",
    "\n",
    "1. Quelles sont les dimensions de $A$ et de $A_{bis}$ ?\n",
    "2. Qu'est ce que vous voyez en observant ces deux matrices ?\n",
    "3. Quelle opération mathématique permet d'obtenir $A_{bis}$ comme résultat à partir de $A$ ?\n",
    "4. Quelle fonction Python permet de faire ce type d'opération ?\n",
    "5. A l'aide de l'opération précédente, transformez les vecteurs et les matrices ci-dessous. Affichez leurs dimensions avant et après l'opération :\n",
    "  * $\\begin{pmatrix}\n",
    "7  \\\\\n",
    "4 \\\\\n",
    "1\n",
    "\\end{pmatrix}$\n",
    "\n",
    "  * $\\begin{pmatrix}\n",
    "9 & 0 & 3 \\\\\n",
    "\\end{pmatrix}$\n",
    "\n",
    "  * $\\begin{pmatrix}\n",
    "2 & 4 & 1 \\\\\n",
    "0 & 5 & 2 \\\\\n",
    "3 & 1 & 6\n",
    "\\end{pmatrix}$\n",
    "\n",
    "  * $\\begin{pmatrix}\n",
    "  7 & 2 & 5 & 1 \\\\\n",
    "3 & 6 & 0 & 2 \\\\\n",
    "\\end{pmatrix}$\n"
   ]
  },
  {
   "cell_type": "code",
   "execution_count": 6,
   "metadata": {
    "id": "o1Hj2crXfRe9"
   },
   "outputs": [
    {
     "name": "stdout",
     "output_type": "stream",
     "text": [
      "1.\n",
      "[[1 5 3]\n",
      " [2 4 7]]\n",
      "[[1 2]\n",
      " [5 4]\n",
      " [3 7]]\n",
      "dimensions de A: (2, 3)\n",
      "dimensions de Abis: (3, 2)\n",
      "\n",
      "2.\n",
      "On observe que Abis est la transposée de A.\n",
      "\n",
      "3.\n",
      "Pour obtenir Abis à partir de A, on échange les indices des coefficients de la matrice.\n",
      "A est une matrice de taille m(=2) x n(=3), le coefficient (i,j) de Abis est alors égal au coefficient (j,i) de A.\n",
      "Transposée de A = [a_ji]_(n x m)\n",
      "\n",
      "4.\n",
      "La fonction 'np.transpose()' de Python permet la même opération.\n",
      "[[1 2]\n",
      " [5 4]\n",
      " [3 7]]\n",
      "\n",
      "5.\n",
      "dimension de B:  (3, 1)\n",
      "dimension de Bbis:  (1, 3)\n",
      "dimension de C:  (1, 3)\n",
      "dimension de Cbis:  (3, 1)\n",
      "dimension de D:  (3, 3)\n",
      "dimension de Cbis:  (3, 3)\n",
      "dimension de E:  (2, 4)\n",
      "dimension de Ebis:  (4, 2)\n"
     ]
    }
   ],
   "source": [
    "print(\"1.\")\n",
    "A = np.matrix([1, 5, 3, 2, 4, 7]).reshape(2, 3)\n",
    "Abis = np.matrix([1, 2, 5, 4, 3, 7]).reshape(3, 2)\n",
    "print(A)\n",
    "print(Abis)\n",
    "print(\"dimensions de A:\", A.shape)\n",
    "print(\"dimensions de Abis:\", Abis.shape)\n",
    "print(\"\")\n",
    "print(\"2.\")\n",
    "print(\"On observe que Abis est la transposée de A.\")\n",
    "print(\"\")\n",
    "print(\"3.\")\n",
    "print(\"Pour obtenir Abis à partir de A, on échange les indices des coefficients de la matrice.\")\n",
    "print(\"A est une matrice de taille m(=2) x n(=3), le coefficient (i,j) de Abis est alors égal au coefficient (j,i) de A.\")\n",
    "print(\"Transposée de A = [a_ji]_(n x m)\")\n",
    "print(\"\")\n",
    "print(\"4.\")\n",
    "print(\"La fonction 'np.transpose()' de Python permet la même opération.\")\n",
    "print(np.transpose(A))\n",
    "print(\"\")\n",
    "print(\"5.\")\n",
    "B = np.matrix([7, 4, 1]).reshape(3, 1)\n",
    "print(\"dimension de B: \", B.shape)\n",
    "Bbis = np.transpose(B)\n",
    "print(\"dimension de Bbis: \", Bbis.shape)\n",
    "C = np.matrix([9, 0, 3]).reshape(1, 3)\n",
    "print(\"dimension de C: \", C.shape)\n",
    "Cbis = np.transpose(C)\n",
    "print(\"dimension de Cbis: \", Cbis.shape)\n",
    "D = np.matrix([2, 4, 1, 0, 5, 2, 3, 1, 6]).reshape(3, 3)\n",
    "print(\"dimension de D: \", D.shape)\n",
    "Dbis = np.transpose(D)\n",
    "print(\"dimension de Cbis: \", Dbis.shape)\n",
    "E = np.matrix([7, 2, 5, 1, 3, 6, 0, 2]).reshape(2, 4)\n",
    "print(\"dimension de E: \", E.shape)\n",
    "Ebis = np.transpose(E)\n",
    "print(\"dimension de Ebis: \", Ebis.shape)"
   ]
  },
  {
   "cell_type": "markdown",
   "metadata": {
    "id": "DNws-5WUo2Ab"
   },
   "source": [
    "------------------------------------------"
   ]
  },
  {
   "cell_type": "markdown",
   "metadata": {
    "id": "Il-yWHePVIqI"
   },
   "source": [
    "## **Job 5**\n",
    "On considère la matrice $A$ de dimension 3 $\\times 4$ définie comme :\n",
    "\n",
    "$$ A = \\begin{pmatrix}\n",
    "4 & 6 & -2 & 3 \\\\\n",
    "2 & -1 & 0 & 1 \\\\\n",
    "-7 & 0 & 1 & 12\n",
    "\\end{pmatrix} $$\n",
    "\n",
    "1. Créez la matrice $A$.\n",
    "\n",
    "2. Modifiez la matrice $A$ pour que ses deux premières lignes soient multipliées par 2 et que sa dernière colonne soit divisée par 3.\n",
    "\n",
    "3. Créez une nouvelle matrice $B$ définie comme :\n",
    "\n",
    "$$ B = \\begin{pmatrix}\n",
    "4 & 5 & 6 \\\\\n",
    "5 & 10 & 15 \\\\\n",
    "1 & 1 & 1\n",
    "\\end{pmatrix}  $$\n",
    "\n",
    "4. Réalisez le produit matriciel de $B$ et $A$, notez le $D$."
   ]
  },
  {
   "cell_type": "code",
   "execution_count": 7,
   "metadata": {
    "id": "u7qHn_eXj4QD"
   },
   "outputs": [
    {
     "name": "stdout",
     "output_type": "stream",
     "text": [
      "matrice A:\n",
      " [[ 4  6 -2  3]\n",
      " [ 2 -1  0  1]\n",
      " [-7  0  1 12]]\n",
      "matrice A après les tâche 2. et 3.:\n",
      " [[ 8 12 -4  2]\n",
      " [ 4 -2  0  0]\n",
      " [-7  0  1  4]]\n",
      "matrice D:\n",
      " [[ 10  38 -10  32]\n",
      " [-25  40  -5  70]\n",
      " [  5  10  -3   6]]\n"
     ]
    }
   ],
   "source": [
    "A = np.matrix([4, 6, -2, 3, 2, -1, 0, 1, -7, 0, 1, 12]).reshape(3, 4)\n",
    "print(\"matrice A:\\n\", A)\n",
    "A[:2] = np.multiply(A[:2], 2)\n",
    "A.T[-1]= np.divide(A.T[-1], 3)\n",
    "print(\"matrice A après les tâche 2. et 3.:\\n\", A)\n",
    "B = np.matrix([4, 5, 6, 5, 10, 15, 1, 1, 1]).reshape(3, 3)\n",
    "D = B * A\n",
    "print(\"matrice D:\\n\", D)"
   ]
  },
  {
   "cell_type": "markdown",
   "metadata": {
    "id": "pUe2Q9LJg8-e"
   },
   "source": [
    "---------------------------------------------------------"
   ]
  },
  {
   "cell_type": "markdown",
   "metadata": {
    "id": "fy9H6rsutmov"
   },
   "source": [
    "## **Job 6**\n",
    "\n",
    "Soit la matrice $I_3$ définie comme suit :\n",
    "$$ \\begin{pmatrix}\n",
    "1 & 0 & 0 \\\\\n",
    "0 & 1 & 0 \\\\\n",
    "0 & 0 & 1\n",
    "\\end{pmatrix}$$\n",
    "\n",
    "1. Faites une multiplication matricielle de $I_3$ et d'une autre matrice de même taille de votre choix. Qu'est ce que vous observez ?\n",
    "2. Renseignez-vous sur la matrice $I_3$. Quelles sont ses caractéristiques ?"
   ]
  },
  {
   "cell_type": "code",
   "execution_count": 8,
   "metadata": {
    "id": "SIVfVrphw6mD"
   },
   "outputs": [
    {
     "name": "stdout",
     "output_type": "stream",
     "text": [
      "1.\n",
      "matrice random:\n",
      " [[-2  2  0]\n",
      " [ 4 -8 -8]\n",
      " [-9  8  5]]\n",
      "produit de la matrice I3 par la matrice random:\n",
      " [[-2.  2.  0.]\n",
      " [ 4. -8. -8.]\n",
      " [-9.  8.  5.]]\n",
      "le produit des matrices est égal à la matrice random. \n",
      "2.\n",
      "la matrice I3 est une matrice identité de dimension 3x3.\n",
      "tout les éléments de sa diagonale sont égaux à 1 et tous les autres éléments sont égaux à 0.\n",
      "le rôle de la matrice identité dans l'ensemble des matrices est le même que celui de 1 dans l'ensemble des réels.\n",
      "le produit d'une matrice identié (I) par une matrice (M) de même dimension sera toujours égale à la matrice (M).\n"
     ]
    }
   ],
   "source": [
    "I_3 = np.identity(3)\n",
    "matrice = np.random.randint(-10,10,size=(3,3))\n",
    "print(\"1.\")\n",
    "print(\"matrice random:\\n\", matrice)\n",
    "print(\"produit de la matrice I3 par la matrice random:\\n\", np.matmul(I_3, matrice))\n",
    "print(\"le produit des matrices est égal à la matrice random. \")\n",
    "print(\"2.\")\n",
    "print(\"la matrice I3 est une matrice identité de dimension 3x3.\\ntout les éléments de sa diagonale sont égaux à 1 et tous les autres éléments sont égaux à 0.\")\n",
    "print(\"le rôle de la matrice identité dans l'ensemble des matrices est le même que celui de 1 dans l'ensemble des réels.\")\n",
    "print(\"le produit d'une matrice identié (I) par une matrice (M) de même dimension sera toujours égale à la matrice (M).\")"
   ]
  },
  {
   "cell_type": "markdown",
   "metadata": {
    "id": "D1RXE9cXx3LD"
   },
   "source": [
    "--------------------------------------------------------------"
   ]
  },
  {
   "cell_type": "markdown",
   "metadata": {
    "id": "2AB67_wztCQT"
   },
   "source": [
    "## **Job 7**\n",
    "\n",
    "Pour un nombre réel $x$, son inverse, noté $\\frac{1}{x}$ ou $x^{-1}$, est un autre nombre tel que $x \\times \\frac{1}{x} = 1$\n",
    "\n",
    " En d'autres termes, lorsque vous multipliez un nombre par son inverse, le résultat est toujours $1$.\n",
    "\n",
    " Démontrez le dans la cellule ci-dessous pour des nombres de votre choix."
   ]
  },
  {
   "cell_type": "code",
   "execution_count": 9,
   "metadata": {
    "id": "AOV7zzmzx4_o"
   },
   "outputs": [
    {
     "name": "stdout",
     "output_type": "stream",
     "text": [
      "pour x=5, le produit de x par son inverse = 1.0\n"
     ]
    }
   ],
   "source": [
    "x = 5\n",
    "print(\"pour x=5, le produit de x par son inverse =\", x * (1/x))"
   ]
  },
  {
   "cell_type": "markdown",
   "metadata": {
    "id": "u-S8sAZPx5Lz"
   },
   "source": [
    "-----------------------------------------------------------------"
   ]
  },
  {
   "cell_type": "markdown",
   "metadata": {
    "id": "RgYKdF1J6fXn"
   },
   "source": [
    "## **Job 8**\n",
    "\n",
    "L'inverse d'une matrice est une autre matrice qui, lorsqu'elle est multipliée par la matrice d'origine, donne une matrice identité. En d'autres termes, si $A$ est une matrice et $A^{-1}$ est son inverse, alors $A \\times A^{-1} = I$.\n",
    "\n",
    "*(C'est comme si l'inverse de la matrice \"compensait\" les effets de la matrice d'origine, de la même manière que l'inverse d'un nombre \"compense\" sa multiplication initiale pour obtenir $1$.)*\n",
    "\n",
    "Soient deux matrices $A$ et $B$ telles que :\n",
    "\n",
    "$$ A = \\begin{pmatrix}\n",
    "1 & 2 \\\\\n",
    "3 & 4\n",
    "\\end{pmatrix}, \\space B = \\begin{pmatrix}\n",
    "-2 & 1 \\\\\n",
    "1.5 & -0.5\n",
    "\\end{pmatrix}$$\n",
    "\n",
    "1. Calculez $A \\times B$ puis $B \\times A$.\n",
    "2. Que pouvez-vous conclure sur les deux matrices ?"
   ]
  },
  {
   "cell_type": "code",
   "execution_count": 10,
   "metadata": {
    "id": "DYkYvgfr6iBH"
   },
   "outputs": [
    {
     "name": "stdout",
     "output_type": "stream",
     "text": [
      "1.\n",
      "A x B:\n",
      " [[1. 0.]\n",
      " [0. 1.]]\n",
      "B x A:\n",
      " [[1. 0.]\n",
      " [0. 1.]]\n",
      "les 2 matrices (produits des calculs précédents) ont la même valeur.\n",
      "on peut en conclure que B est l'inverse de A car leur produit donne bien une matrice identité.\n"
     ]
    }
   ],
   "source": [
    "A = np.arange(1,5).reshape(2,2)\n",
    "B = np.matrix([-2, 1, 1.5, -0.5]).reshape(2,2)\n",
    "print(\"1.\")\n",
    "print(\"A x B:\\n\", np.matmul(A,B))\n",
    "print(\"B x A:\\n\", np.matmul(B,A))\n",
    "print(\"les 2 matrices (produits des calculs précédents) ont la même valeur.\\non peut en conclure que B est l'inverse de A car leur produit donne bien une matrice identité.\")"
   ]
  },
  {
   "cell_type": "markdown",
   "metadata": {
    "id": "rLtfdXh76iTd"
   },
   "source": [
    "----------------------------------------------------------------------"
   ]
  },
  {
   "cell_type": "markdown",
   "metadata": {
    "id": "rfRPzGs-3MG2"
   },
   "source": [
    "## **Job 9**\n",
    "\n",
    "On dit qu'une matrice carrée $M$ est inversible (ou possède un inverse $M^{-1}$) si son déterminant $det(M)\\neq 0$.\n",
    "\n",
    "**Par exemple :**\n",
    "\n",
    "$$ M = \\begin{pmatrix}\n",
    "a & b \\\\\n",
    "c & d\n",
    "\\end{pmatrix}, \\space det(M) = (a \\times d) - (c \\times b) \\neq 0$$\n",
    "\n",
    "On définit alors $M^{-1}$ comme suit :\n",
    "\n",
    "$$ M^{-1} = \\frac{1}{det(M)} \\times \\begin{pmatrix}\n",
    "d & -b \\\\\n",
    "-c & a\n",
    "\\end{pmatrix} $$\n",
    "\n",
    "\\\n",
    "\n",
    "1. Vérifiez si les matrices carrées ci-dessous sont inversibles (il existe une fonction de numpy qui le fait très bien...) :\n",
    "\n",
    "  * $ \\begin{pmatrix}\n",
    "5 & 6 \\\\\n",
    "7 & 8\n",
    "\\end{pmatrix}$\n",
    "\n",
    "  * $ \\begin{pmatrix}\n",
    "3 & 2 \\\\\n",
    "4 & 1\n",
    "\\end{pmatrix}$\n",
    "\n",
    "  * $ \\begin{pmatrix}\n",
    "1 & 5 \\\\\n",
    "7 & 8 \\\\\n",
    "0 & 1\n",
    "\\end{pmatrix}$\n",
    "\n",
    "  * $ \\begin{pmatrix}\n",
    "1 & 2 & 3 \\\\\n",
    "0 & -1 & 4 \\\\\n",
    "2 & 1 & 5\n",
    "\\end{pmatrix}$\n",
    "\n",
    "\n",
    "2. Calculez l'inverse de ces matrices à l'aide de la formule donnée précédemment."
   ]
  },
  {
   "cell_type": "code",
   "execution_count": 11,
   "metadata": {
    "id": "EqS8e-z13Lf9"
   },
   "outputs": [
    {
     "name": "stdout",
     "output_type": "stream",
     "text": [
      "1.\n",
      "la matrice A est inversible.\n",
      "la matrice B est inversible.\n",
      "la matrice C n'est pas inversible. (colonnes != lignes)\n",
      "la matrice D est inversible.\n",
      "\n",
      "2.\n",
      "l'inverse de A est:\n",
      "[[-4.   3. ]\n",
      " [ 3.5 -2.5]]\n",
      "l'inverse de B est:\n",
      "[[-0.2  0.4]\n",
      " [ 0.8 -0.6]]\n",
      "l'inverse de D est:\n",
      "[[-0.69230769 -0.53846154  0.84615385]\n",
      " [ 0.61538462 -0.07692308 -0.30769231]\n",
      " [ 0.15384615  0.23076923 -0.07692308]]\n"
     ]
    }
   ],
   "source": [
    "A = np.arange(5,9).reshape(2,2)\n",
    "B = np.matrix([3,2,4,1]).reshape(2,2)\n",
    "C = np.matrix([1,5,7,8,0,1]).reshape(2,3)\n",
    "D = np.matrix([1,2,3,0,-1,4,2,1,5]).reshape(3,3)\n",
    "\n",
    "matrix = {\"A\":A,\"B\":B,\"C\":C,\"D\":D}\n",
    "inversible = []\n",
    "print(\"1.\")\n",
    "for x in matrix:\n",
    "    try:\n",
    "        np.linalg.det(matrix[x])\n",
    "        inversible.append(x)\n",
    "        print(f\"la matrice {x} est inversible.\")\n",
    "    except np.linalg.LinAlgError:\n",
    "        print(f\"la matrice {x} n'est pas inversible. (colonnes != lignes)\")\n",
    "print(\"\")\n",
    "print(\"2.\")\n",
    "for x in inversible:\n",
    "    print(f\"l'inverse de {x} est:\\n{np.linalg.inv(matrix[x])}\")"
   ]
  },
  {
   "cell_type": "markdown",
   "metadata": {
    "id": "Gx-D1gOvx9q7"
   },
   "source": [
    "-----------------------------------------------------------------"
   ]
  },
  {
   "cell_type": "markdown",
   "metadata": {
    "id": "CQtesnAQhBWC"
   },
   "source": [
    "# Probabilités et Statistique"
   ]
  },
  {
   "cell_type": "markdown",
   "metadata": {
    "id": "ln_exBJbqReD"
   },
   "source": [
    "## **Job 10**\n",
    "**La probabilité d'un événement est un nombre réel compris entre 0 et 1. Plus ce nombre est grand, plus le risque, ou la chance, que l'événement se produise est grand.**\n",
    "\n",
    "Lancez une pièce de monnaie 100 fois et enregistrez le résultat, pile ou face, dans un `array` $T$.\n",
    "1. Quelle est donc la probabilité d'obtenir le résultat Pile ou le résultat Face ?\n",
    "3. Visualisez la proportion des résultats à l'aide d'un piechart de `Matplotlib` (ou d'une autre librairie de votre choix).\n"
   ]
  },
  {
   "cell_type": "code",
   "execution_count": 12,
   "metadata": {
    "id": "iOPwW6xwrI-v"
   },
   "outputs": [
    {
     "name": "stdout",
     "output_type": "stream",
     "text": [
      "1.\n",
      "la probabilité d'obtenir Pile est de: 0.45\n",
      "la probabilité d'obtenir Face est de: 0.55\n",
      "\n",
      "2. visualisation:\n"
     ]
    },
    {
     "data": {
      "image/png": "[encoded data removed]",
      "text/plain": [
       "<Figure size 640x480 with 1 Axes>"
      ]
     },
     "metadata": {},
     "output_type": "display_data"
    }
   ],
   "source": [
    "T = np.random.randint(2, size=100)\n",
    "# Pile = 0\n",
    "probabilite_0 = np.mean(T == 0)\n",
    "# Face = 1\n",
    "probabilite_1 = np.mean(T == 1)\n",
    "\n",
    "print(\"1.\")\n",
    "print(\"la probabilité d'obtenir Pile est de:\", probabilite_0)\n",
    "print(\"la probabilité d'obtenir Face est de:\", probabilite_1)\n",
    "print(\"\")\n",
    "print(\"2. visualisation:\")\n",
    "labels = 'Pile', 'Face'\n",
    "sizes = [probabilite_0, probabilite_1]\n",
    "explode = (0, 0.1)\n",
    "fig1, ax1 = plt.subplots()\n",
    "ax1.pie(sizes, explode=explode, labels=labels,\n",
    "        autopct='%1.1f%%', shadow=True, startangle=90)\n",
    "ax1.axis('equal')\n",
    "plt.show()"
   ]
  },
  {
   "cell_type": "markdown",
   "metadata": {
    "id": "MxiFruoxmYug"
   },
   "source": [
    "## **Job 11**\n",
    "\n",
    "Considérez un dé $D_6$ dont les valeurs possibles sont : $\\{1, 2, 3, 4, 5, 6\\}$.\n",
    "\n",
    "Ce dé est non truqué, ce qui signifie que toutes les valeurs ont des probabilités égales de se produire.  \n",
    "\n",
    "Si je jette le dé $D_6$, la probabilité que le résultat soit $3$ est de $\\frac{1}{6}$.\n",
    "\n",
    "1. Quelle est la probabilité d'obtenir $7$ au jet du dé $D_6$ ?\n",
    "2. Quelle est la probabilité d'obtenir un résultat pair ?\n",
    "3. Quelle est la probabilité d'obtenir un résultat impair ?\n",
    "4. Quelle est la probabilité d'obtenir un résultat inférieur ou égal à $4$ ?\n",
    "5. Quelle est la probabilité d'obtenir un résultat inférieur ou égal à $6$ ?\n",
    "6. Quelle est la probabilité de ne pas obtenir $1$ ?"
   ]
  },
  {
   "cell_type": "code",
   "execution_count": 13,
   "metadata": {
    "id": "Nbpx1FibWrBs"
   },
   "outputs": [
    {
     "name": "stdout",
     "output_type": "stream",
     "text": [
      "1.\n",
      "la probabilité d'obtenir un 7 est de: 0.0\n",
      "2.\n",
      "la probabilité d'obtenir un nombre pair est de: 0.5\n",
      "3.\n",
      "la probabilité d'obtenir un nombre impair est de: 0.5\n",
      "4.\n",
      "la probabilité d'obtenir un nombre inférieur ou égal à 4 est de: 0.6666666666666666\n",
      "5.\n",
      "la probabilité d'obtenir un nombre inférieur à 6 est de: 1.0\n",
      "6.\n",
      "la probabilité de ne pas obtenir un 1 est de: 0.8333333333333334\n"
     ]
    }
   ],
   "source": [
    "D6 = {1,2,3,4,5,6}\n",
    "probabilite_7 = np.mean(D6 == 7)\n",
    "print(\"1.\\nla probabilité d'obtenir un 7 est de:\", probabilite_7)\n",
    "probabilite_pair = np.mean(np.array(list(D6)) % 2 == 0)\n",
    "print(\"2.\\nla probabilité d'obtenir un nombre pair est de:\", probabilite_pair)\n",
    "probabilite_impair = np.mean(np.array(list(D6)) % 2 == 1)\n",
    "print(\"3.\\nla probabilité d'obtenir un nombre impair est de:\", probabilite_impair)\n",
    "probabilite_inf4 = np.mean(np.array(list(D6)) <= 4)\n",
    "print(\"4.\\nla probabilité d'obtenir un nombre inférieur ou égal à 4 est de:\", probabilite_inf4)\n",
    "probabilite_inf6 = np.mean(np.array(list(D6)) <= 6)\n",
    "print(\"5.\\nla probabilité d'obtenir un nombre inférieur à 6 est de:\", probabilite_inf6)\n",
    "probabilite_non1 = np.mean(np.array(list(D6)) != 1)\n",
    "print(\"6.\\nla probabilité de ne pas obtenir un 1 est de:\", probabilite_non1)"
   ]
  },
  {
   "cell_type": "markdown",
   "metadata": {
    "id": "WSdMr0IBWthA"
   },
   "source": [
    "-------------------------------------------------------------"
   ]
  },
  {
   "cell_type": "markdown",
   "metadata": {
    "id": "uttOswY_g-gC"
   },
   "source": [
    "## **Job 12**\n",
    "A l'aide de `numpy` et de ses différentes fonctions :\n",
    "* Créez un vecteur ligne $R$ de taille $n=450$ composé de nombres naturels entre $0$ et $9$ générés aléatoirement\n",
    "* Calculez la valeur moyenne du tableau\n",
    "* Calculez la valeur médiane\n",
    "* Calculez la variance\n",
    "* Calculez l'écart-type"
   ]
  },
  {
   "cell_type": "code",
   "execution_count": 14,
   "metadata": {
    "id": "q4WwtEoHj5ZV"
   },
   "outputs": [
    {
     "name": "stdout",
     "output_type": "stream",
     "text": [
      "- la valeur moyenne du tableau R est de: 4.411111111111111\n",
      "- la valeur médiane du tableau R est de: 4.0\n",
      "- la variance du tableau R est de: 8.339876543209876\n",
      "- l'écart-type du tableau R est de: 2.887884440764532\n"
     ]
    }
   ],
   "source": [
    "R = np.random.randint(10, size=450)\n",
    "moyenne_R = np.mean(R)\n",
    "print(\"- la valeur moyenne du tableau R est de:\", moyenne_R)\n",
    "mediane_R = np.median(R)\n",
    "print(\"- la valeur médiane du tableau R est de:\", mediane_R)\n",
    "variance_R = np.var(R)\n",
    "print(\"- la variance du tableau R est de:\", variance_R)\n",
    "ecart_type_R = np.std(R)\n",
    "print(\"- l'écart-type du tableau R est de:\", ecart_type_R)"
   ]
  },
  {
   "cell_type": "markdown",
   "metadata": {
    "id": "Aw0gaIdZazFa"
   },
   "source": [
    "----------------------------------------------"
   ]
  },
  {
   "cell_type": "markdown",
   "metadata": {
    "id": "KqxEDbkKkP4t"
   },
   "source": [
    "## **Job 13**\n",
    "A l'aide de matplotlib (ou d'une autre librairie de votre choix), visualisez la distribution des données du tableau $R$ en générant un histogramme."
   ]
  },
  {
   "cell_type": "code",
   "execution_count": 15,
   "metadata": {
    "id": "8sWEFtOskmmg"
   },
   "outputs": [
    {
     "data": {
      "image/png": "[encoded data removed]",
      "text/plain": [
       "<Figure size 640x480 with 1 Axes>"
      ]
     },
     "metadata": {},
     "output_type": "display_data"
    }
   ],
   "source": [
    "plt.hist(R, bins=10)\n",
    "plt.title(\"Distribution des valeurs du tableau R\")\n",
    "plt.xlabel(\"Valeurs\")\n",
    "plt.ylabel(\"Fréquences\")\n",
    "plt.show()"
   ]
  },
  {
   "cell_type": "markdown",
   "metadata": {
    "id": "BoIJ71z2a0aY"
   },
   "source": [
    "---------------------------------------------------------"
   ]
  },
  {
   "cell_type": "markdown",
   "metadata": {
    "id": "QXOHm1PqknPj"
   },
   "source": [
    "## **Job 14**\n",
    "A l'aide de matplotlib (ou d'une autre librairie de votre choix), visualisez la distribution et dispersion des données du tableau $R$ à travers leurs **quartiles** en utilisant l'outil statistique, le boxplot."
   ]
  },
  {
   "cell_type": "code",
   "execution_count": 16,
   "metadata": {
    "id": "olFRkPQHkxwV"
   },
   "outputs": [
    {
     "data": {
      "image/png": "[encoded data removed]",
      "text/plain": [
       "<Figure size 640x480 with 1 Axes>"
      ]
     },
     "metadata": {},
     "output_type": "display_data"
    }
   ],
   "source": [
    "plt.boxplot(R)\n",
    "plt.title(\"Distribution et dispersion des valeurs du tableau R\")\n",
    "plt.xlabel(\"Valeurs\")\n",
    "plt.ylabel(\"Fréquences\")\n",
    "plt.show()"
   ]
  },
  {
   "cell_type": "markdown",
   "metadata": {
    "id": "tHtFR_Mha177"
   },
   "source": [
    "-----------------------------------------------------"
   ]
  },
  {
   "cell_type": "markdown",
   "metadata": {
    "id": "7FRhuAFaa3Yy"
   },
   "source": [
    "## **Job 15**\n",
    "\n",
    "Considérons des données de résultats d'une analyse chimique de vins cultivés en Italie issus de trois cultivars différents. Ces données ont été récupérées et chargées dans un `DataFrame` via la code ci-dessous.\n",
    "\n",
    "1. Affichez différentes informations de `wine_df` (nombre d'observations, nombre de caractéristiques, type de données, données manquantes, mémoire allouée en RAM).\n",
    "\n",
    "2. A l'aide d'une fonction spécifique de `Pandas`, générez les statistiques descriptives (moyenne, médiane, maximum, ...) du jeu de données. Qu'est ce que vous observez ?\n",
    "\n",
    "3. Visualisez la distribution des différentes variables du jeu de données à l'aide d'un histogramme et d'un boxplot.\n",
    "\n",
    "4. A l'aide d'une fonction spécifique de `Pandas`, calculez la corrélation linéaire de Pearson par paire des variables.\n"
   ]
  },
  {
   "cell_type": "code",
   "execution_count": 17,
   "metadata": {
    "colab": {
     "base_uri": "https://localhost:8080/",
     "height": 226
    },
    "id": "tlFNsLZ5a7fr",
    "outputId": "56aa52f5-af6f-4a9f-edee-6b04437a61e1"
   },
   "outputs": [
    {
     "data": {
      "text/html": [
       "<div>\n",
       "<style scoped>\n",
       "    .dataframe tbody tr th:only-of-type {\n",
       "        vertical-align: middle;\n",
       "    }\n",
       "\n",
       "    .dataframe tbody tr th {\n",
       "        vertical-align: top;\n",
       "    }\n",
       "\n",
       "    .dataframe thead th {\n",
       "        text-align: right;\n",
       "    }\n",
       "</style>\n",
       "<table border=\"1\" class=\"dataframe\">\n",
       "  <thead>\n",
       "    <tr style=\"text-align: right;\">\n",
       "      <th></th>\n",
       "      <th>alcohol</th>\n",
       "      <th>malic_acid</th>\n",
       "      <th>ash</th>\n",
       "      <th>alcalinity_of_ash</th>\n",
       "      <th>magnesium</th>\n",
       "      <th>total_phenols</th>\n",
       "      <th>flavanoids</th>\n",
       "      <th>nonflavanoid_phenols</th>\n",
       "      <th>proanthocyanins</th>\n",
       "      <th>color_intensity</th>\n",
       "      <th>hue</th>\n",
       "      <th>od280/od315_of_diluted_wines</th>\n",
       "      <th>proline</th>\n",
       "    </tr>\n",
       "  </thead>\n",
       "  <tbody>\n",
       "    <tr>\n",
       "      <th>0</th>\n",
       "      <td>14.23</td>\n",
       "      <td>1.71</td>\n",
       "      <td>2.43</td>\n",
       "      <td>15.6</td>\n",
       "      <td>127.0</td>\n",
       "      <td>2.80</td>\n",
       "      <td>3.06</td>\n",
       "      <td>0.28</td>\n",
       "      <td>2.29</td>\n",
       "      <td>5.64</td>\n",
       "      <td>1.04</td>\n",
       "      <td>3.92</td>\n",
       "      <td>1065.0</td>\n",
       "    </tr>\n",
       "    <tr>\n",
       "      <th>1</th>\n",
       "      <td>13.20</td>\n",
       "      <td>1.78</td>\n",
       "      <td>2.14</td>\n",
       "      <td>11.2</td>\n",
       "      <td>100.0</td>\n",
       "      <td>2.65</td>\n",
       "      <td>2.76</td>\n",
       "      <td>0.26</td>\n",
       "      <td>1.28</td>\n",
       "      <td>4.38</td>\n",
       "      <td>1.05</td>\n",
       "      <td>3.40</td>\n",
       "      <td>1050.0</td>\n",
       "    </tr>\n",
       "    <tr>\n",
       "      <th>2</th>\n",
       "      <td>13.16</td>\n",
       "      <td>2.36</td>\n",
       "      <td>2.67</td>\n",
       "      <td>18.6</td>\n",
       "      <td>101.0</td>\n",
       "      <td>2.80</td>\n",
       "      <td>3.24</td>\n",
       "      <td>0.30</td>\n",
       "      <td>2.81</td>\n",
       "      <td>5.68</td>\n",
       "      <td>1.03</td>\n",
       "      <td>3.17</td>\n",
       "      <td>1185.0</td>\n",
       "    </tr>\n",
       "    <tr>\n",
       "      <th>3</th>\n",
       "      <td>14.37</td>\n",
       "      <td>1.95</td>\n",
       "      <td>2.50</td>\n",
       "      <td>16.8</td>\n",
       "      <td>113.0</td>\n",
       "      <td>3.85</td>\n",
       "      <td>3.49</td>\n",
       "      <td>0.24</td>\n",
       "      <td>2.18</td>\n",
       "      <td>7.80</td>\n",
       "      <td>0.86</td>\n",
       "      <td>3.45</td>\n",
       "      <td>1480.0</td>\n",
       "    </tr>\n",
       "    <tr>\n",
       "      <th>4</th>\n",
       "      <td>13.24</td>\n",
       "      <td>2.59</td>\n",
       "      <td>2.87</td>\n",
       "      <td>21.0</td>\n",
       "      <td>118.0</td>\n",
       "      <td>2.80</td>\n",
       "      <td>2.69</td>\n",
       "      <td>0.39</td>\n",
       "      <td>1.82</td>\n",
       "      <td>4.32</td>\n",
       "      <td>1.04</td>\n",
       "      <td>2.93</td>\n",
       "      <td>735.0</td>\n",
       "    </tr>\n",
       "  </tbody>\n",
       "</table>\n",
       "</div>"
      ],
      "text/plain": [
       "   alcohol  malic_acid   ash  alcalinity_of_ash  magnesium  total_phenols  \\\n",
       "0    14.23        1.71  2.43               15.6      127.0           2.80   \n",
       "1    13.20        1.78  2.14               11.2      100.0           2.65   \n",
       "2    13.16        2.36  2.67               18.6      101.0           2.80   \n",
       "3    14.37        1.95  2.50               16.8      113.0           3.85   \n",
       "4    13.24        2.59  2.87               21.0      118.0           2.80   \n",
       "\n",
       "   flavanoids  nonflavanoid_phenols  proanthocyanins  color_intensity   hue  \\\n",
       "0        3.06                  0.28             2.29             5.64  1.04   \n",
       "1        2.76                  0.26             1.28             4.38  1.05   \n",
       "2        3.24                  0.30             2.81             5.68  1.03   \n",
       "3        3.49                  0.24             2.18             7.80  0.86   \n",
       "4        2.69                  0.39             1.82             4.32  1.04   \n",
       "\n",
       "   od280/od315_of_diluted_wines  proline  \n",
       "0                          3.92   1065.0  \n",
       "1                          3.40   1050.0  \n",
       "2                          3.17   1185.0  \n",
       "3                          3.45   1480.0  \n",
       "4                          2.93    735.0  "
      ]
     },
     "execution_count": 17,
     "metadata": {},
     "output_type": "execute_result"
    }
   ],
   "source": [
    "wine_data = load_wine()\n",
    "\n",
    "wine_df = pd.DataFrame(data=wine_data.data, columns=wine_data.feature_names)\n",
    "wine_df.head()"
   ]
  },
  {
   "cell_type": "code",
   "execution_count": 18,
   "metadata": {
    "tags": []
   },
   "outputs": [
    {
     "name": "stdout",
     "output_type": "stream",
     "text": [
      "<class 'pandas.core.frame.DataFrame'>\n",
      "RangeIndex: 178 entries, 0 to 177\n",
      "Data columns (total 13 columns):\n",
      " #   Column                        Non-Null Count  Dtype  \n",
      "---  ------                        --------------  -----  \n",
      " 0   alcohol                       178 non-null    float64\n",
      " 1   malic_acid                    178 non-null    float64\n",
      " 2   ash                           178 non-null    float64\n",
      " 3   alcalinity_of_ash             178 non-null    float64\n",
      " 4   magnesium                     178 non-null    float64\n",
      " 5   total_phenols                 178 non-null    float64\n",
      " 6   flavanoids                    178 non-null    float64\n",
      " 7   nonflavanoid_phenols          178 non-null    float64\n",
      " 8   proanthocyanins               178 non-null    float64\n",
      " 9   color_intensity               178 non-null    float64\n",
      " 10  hue                           178 non-null    float64\n",
      " 11  od280/od315_of_diluted_wines  178 non-null    float64\n",
      " 12  proline                       178 non-null    float64\n",
      "dtypes: float64(13)\n",
      "memory usage: 18.2 KB\n"
     ]
    }
   ],
   "source": [
    "wine_df.info()"
   ]
  },
  {
   "cell_type": "code",
   "execution_count": 19,
   "metadata": {
    "tags": []
   },
   "outputs": [
    {
     "name": "stdout",
     "output_type": "stream",
     "text": [
      "1.\n",
      "le nombre d'observations est de: 178\n",
      "le nombre de caractéristiques est de: 13\n",
      "le type de données est de:\n",
      " alcohol                         float64\n",
      "malic_acid                      float64\n",
      "ash                             float64\n",
      "alcalinity_of_ash               float64\n",
      "magnesium                       float64\n",
      "total_phenols                   float64\n",
      "flavanoids                      float64\n",
      "nonflavanoid_phenols            float64\n",
      "proanthocyanins                 float64\n",
      "color_intensity                 float64\n",
      "hue                             float64\n",
      "od280/od315_of_diluted_wines    float64\n",
      "proline                         float64\n",
      "dtype: object\n",
      "les données manquantes sont de: 0\n",
      "la mémoire allouée en RAM est de: 18644\n"
     ]
    }
   ],
   "source": [
    "print(\"1.\\nle nombre d'observations est de:\", wine_df.shape[0])\n",
    "print(\"le nombre de caractéristiques est de:\", wine_df.shape[1])\n",
    "print(\"le type de données est de:\\n\", wine_df.dtypes)\n",
    "print(\"les données manquantes sont de:\", wine_df.isnull().sum().sum())\n",
    "print(\"la mémoire allouée en RAM est de:\", wine_df.memory_usage().sum())"
   ]
  },
  {
   "cell_type": "code",
   "execution_count": 20,
   "metadata": {
    "tags": []
   },
   "outputs": [
    {
     "name": "stdout",
     "output_type": "stream",
     "text": [
      "2.\n",
      "les statistiques descriptives du dataset sont de:\n"
     ]
    },
    {
     "data": {
      "text/html": [
       "<div>\n",
       "<style scoped>\n",
       "    .dataframe tbody tr th:only-of-type {\n",
       "        vertical-align: middle;\n",
       "    }\n",
       "\n",
       "    .dataframe tbody tr th {\n",
       "        vertical-align: top;\n",
       "    }\n",
       "\n",
       "    .dataframe thead th {\n",
       "        text-align: right;\n",
       "    }\n",
       "</style>\n",
       "<table border=\"1\" class=\"dataframe\">\n",
       "  <thead>\n",
       "    <tr style=\"text-align: right;\">\n",
       "      <th></th>\n",
       "      <th>alcohol</th>\n",
       "      <th>malic_acid</th>\n",
       "      <th>ash</th>\n",
       "      <th>alcalinity_of_ash</th>\n",
       "      <th>magnesium</th>\n",
       "      <th>total_phenols</th>\n",
       "      <th>flavanoids</th>\n",
       "      <th>nonflavanoid_phenols</th>\n",
       "      <th>proanthocyanins</th>\n",
       "      <th>color_intensity</th>\n",
       "      <th>hue</th>\n",
       "      <th>od280/od315_of_diluted_wines</th>\n",
       "      <th>proline</th>\n",
       "    </tr>\n",
       "  </thead>\n",
       "  <tbody>\n",
       "    <tr>\n",
       "      <th>count</th>\n",
       "      <td>178.000000</td>\n",
       "      <td>178.000000</td>\n",
       "      <td>178.000000</td>\n",
       "      <td>178.000000</td>\n",
       "      <td>178.000000</td>\n",
       "      <td>178.000000</td>\n",
       "      <td>178.000000</td>\n",
       "      <td>178.000000</td>\n",
       "      <td>178.000000</td>\n",
       "      <td>178.000000</td>\n",
       "      <td>178.000000</td>\n",
       "      <td>178.000000</td>\n",
       "      <td>178.000000</td>\n",
       "    </tr>\n",
       "    <tr>\n",
       "      <th>mean</th>\n",
       "      <td>13.000618</td>\n",
       "      <td>2.336348</td>\n",
       "      <td>2.366517</td>\n",
       "      <td>19.494944</td>\n",
       "      <td>99.741573</td>\n",
       "      <td>2.295112</td>\n",
       "      <td>2.029270</td>\n",
       "      <td>0.361854</td>\n",
       "      <td>1.590899</td>\n",
       "      <td>5.058090</td>\n",
       "      <td>0.957449</td>\n",
       "      <td>2.611685</td>\n",
       "      <td>746.893258</td>\n",
       "    </tr>\n",
       "    <tr>\n",
       "      <th>std</th>\n",
       "      <td>0.811827</td>\n",
       "      <td>1.117146</td>\n",
       "      <td>0.274344</td>\n",
       "      <td>3.339564</td>\n",
       "      <td>14.282484</td>\n",
       "      <td>0.625851</td>\n",
       "      <td>0.998859</td>\n",
       "      <td>0.124453</td>\n",
       "      <td>0.572359</td>\n",
       "      <td>2.318286</td>\n",
       "      <td>0.228572</td>\n",
       "      <td>0.709990</td>\n",
       "      <td>314.907474</td>\n",
       "    </tr>\n",
       "    <tr>\n",
       "      <th>min</th>\n",
       "      <td>11.030000</td>\n",
       "      <td>0.740000</td>\n",
       "      <td>1.360000</td>\n",
       "      <td>10.600000</td>\n",
       "      <td>70.000000</td>\n",
       "      <td>0.980000</td>\n",
       "      <td>0.340000</td>\n",
       "      <td>0.130000</td>\n",
       "      <td>0.410000</td>\n",
       "      <td>1.280000</td>\n",
       "      <td>0.480000</td>\n",
       "      <td>1.270000</td>\n",
       "      <td>278.000000</td>\n",
       "    </tr>\n",
       "    <tr>\n",
       "      <th>25%</th>\n",
       "      <td>12.362500</td>\n",
       "      <td>1.602500</td>\n",
       "      <td>2.210000</td>\n",
       "      <td>17.200000</td>\n",
       "      <td>88.000000</td>\n",
       "      <td>1.742500</td>\n",
       "      <td>1.205000</td>\n",
       "      <td>0.270000</td>\n",
       "      <td>1.250000</td>\n",
       "      <td>3.220000</td>\n",
       "      <td>0.782500</td>\n",
       "      <td>1.937500</td>\n",
       "      <td>500.500000</td>\n",
       "    </tr>\n",
       "    <tr>\n",
       "      <th>50%</th>\n",
       "      <td>13.050000</td>\n",
       "      <td>1.865000</td>\n",
       "      <td>2.360000</td>\n",
       "      <td>19.500000</td>\n",
       "      <td>98.000000</td>\n",
       "      <td>2.355000</td>\n",
       "      <td>2.135000</td>\n",
       "      <td>0.340000</td>\n",
       "      <td>1.555000</td>\n",
       "      <td>4.690000</td>\n",
       "      <td>0.965000</td>\n",
       "      <td>2.780000</td>\n",
       "      <td>673.500000</td>\n",
       "    </tr>\n",
       "    <tr>\n",
       "      <th>75%</th>\n",
       "      <td>13.677500</td>\n",
       "      <td>3.082500</td>\n",
       "      <td>2.557500</td>\n",
       "      <td>21.500000</td>\n",
       "      <td>107.000000</td>\n",
       "      <td>2.800000</td>\n",
       "      <td>2.875000</td>\n",
       "      <td>0.437500</td>\n",
       "      <td>1.950000</td>\n",
       "      <td>6.200000</td>\n",
       "      <td>1.120000</td>\n",
       "      <td>3.170000</td>\n",
       "      <td>985.000000</td>\n",
       "    </tr>\n",
       "    <tr>\n",
       "      <th>max</th>\n",
       "      <td>14.830000</td>\n",
       "      <td>5.800000</td>\n",
       "      <td>3.230000</td>\n",
       "      <td>30.000000</td>\n",
       "      <td>162.000000</td>\n",
       "      <td>3.880000</td>\n",
       "      <td>5.080000</td>\n",
       "      <td>0.660000</td>\n",
       "      <td>3.580000</td>\n",
       "      <td>13.000000</td>\n",
       "      <td>1.710000</td>\n",
       "      <td>4.000000</td>\n",
       "      <td>1680.000000</td>\n",
       "    </tr>\n",
       "  </tbody>\n",
       "</table>\n",
       "</div>"
      ],
      "text/plain": [
       "          alcohol  malic_acid         ash  alcalinity_of_ash   magnesium  \\\n",
       "count  178.000000  178.000000  178.000000         178.000000  178.000000   \n",
       "mean    13.000618    2.336348    2.366517          19.494944   99.741573   \n",
       "std      0.811827    1.117146    0.274344           3.339564   14.282484   \n",
       "min     11.030000    0.740000    1.360000          10.600000   70.000000   \n",
       "25%     12.362500    1.602500    2.210000          17.200000   88.000000   \n",
       "50%     13.050000    1.865000    2.360000          19.500000   98.000000   \n",
       "75%     13.677500    3.082500    2.557500          21.500000  107.000000   \n",
       "max     14.830000    5.800000    3.230000          30.000000  162.000000   \n",
       "\n",
       "       total_phenols  flavanoids  nonflavanoid_phenols  proanthocyanins  \\\n",
       "count     178.000000  178.000000            178.000000       178.000000   \n",
       "mean        2.295112    2.029270              0.361854         1.590899   \n",
       "std         0.625851    0.998859              0.124453         0.572359   \n",
       "min         0.980000    0.340000              0.130000         0.410000   \n",
       "25%         1.742500    1.205000              0.270000         1.250000   \n",
       "50%         2.355000    2.135000              0.340000         1.555000   \n",
       "75%         2.800000    2.875000              0.437500         1.950000   \n",
       "max         3.880000    5.080000              0.660000         3.580000   \n",
       "\n",
       "       color_intensity         hue  od280/od315_of_diluted_wines      proline  \n",
       "count       178.000000  178.000000                    178.000000   178.000000  \n",
       "mean          5.058090    0.957449                      2.611685   746.893258  \n",
       "std           2.318286    0.228572                      0.709990   314.907474  \n",
       "min           1.280000    0.480000                      1.270000   278.000000  \n",
       "25%           3.220000    0.782500                      1.937500   500.500000  \n",
       "50%           4.690000    0.965000                      2.780000   673.500000  \n",
       "75%           6.200000    1.120000                      3.170000   985.000000  \n",
       "max          13.000000    1.710000                      4.000000  1680.000000  "
      ]
     },
     "execution_count": 20,
     "metadata": {},
     "output_type": "execute_result"
    }
   ],
   "source": [
    "print(\"2.\\nles statistiques descriptives du dataset sont de:\")\n",
    "wine_df.describe()"
   ]
  },
  {
   "cell_type": "code",
   "execution_count": 21,
   "metadata": {
    "tags": []
   },
   "outputs": [
    {
     "name": "stdout",
     "output_type": "stream",
     "text": [
      "3.\n"
     ]
    },
    {
     "data": {
      "image/png": "[encoded data removed]",
      "text/plain": [
       "<Figure size 1000x1000 with 16 Axes>"
      ]
     },
     "metadata": {},
     "output_type": "display_data"
    }
   ],
   "source": [
    "print(\"3.\")\n",
    "wine_df.hist(figsize=(10,10))\n",
    "plt.show()"
   ]
  },
  {
   "cell_type": "code",
   "execution_count": 22,
   "metadata": {
    "tags": []
   },
   "outputs": [
    {
     "data": {
      "image/png": "[encoded data removed]",
      "text/plain": [
       "<Figure size 1000x1000 with 1 Axes>"
      ]
     },
     "metadata": {},
     "output_type": "display_data"
    }
   ],
   "source": [
    "wine_df.boxplot(figsize=(10,10))\n",
    "plt.show()"
   ]
  },
  {
   "cell_type": "code",
   "execution_count": 23,
   "metadata": {
    "tags": []
   },
   "outputs": [
    {
     "name": "stdout",
     "output_type": "stream",
     "text": [
      "4.\n",
      "la corrélation linéaire de Peason par paire des variables est de:\n"
     ]
    },
    {
     "data": {
      "text/html": [
       "<div>\n",
       "<style scoped>\n",
       "    .dataframe tbody tr th:only-of-type {\n",
       "        vertical-align: middle;\n",
       "    }\n",
       "\n",
       "    .dataframe tbody tr th {\n",
       "        vertical-align: top;\n",
       "    }\n",
       "\n",
       "    .dataframe thead th {\n",
       "        text-align: right;\n",
       "    }\n",
       "</style>\n",
       "<table border=\"1\" class=\"dataframe\">\n",
       "  <thead>\n",
       "    <tr style=\"text-align: right;\">\n",
       "      <th></th>\n",
       "      <th>alcohol</th>\n",
       "      <th>malic_acid</th>\n",
       "      <th>ash</th>\n",
       "      <th>alcalinity_of_ash</th>\n",
       "      <th>magnesium</th>\n",
       "      <th>total_phenols</th>\n",
       "      <th>flavanoids</th>\n",
       "      <th>nonflavanoid_phenols</th>\n",
       "      <th>proanthocyanins</th>\n",
       "      <th>color_intensity</th>\n",
       "      <th>hue</th>\n",
       "      <th>od280/od315_of_diluted_wines</th>\n",
       "      <th>proline</th>\n",
       "    </tr>\n",
       "  </thead>\n",
       "  <tbody>\n",
       "    <tr>\n",
       "      <th>alcohol</th>\n",
       "      <td>1.000000</td>\n",
       "      <td>0.094397</td>\n",
       "      <td>0.211545</td>\n",
       "      <td>-0.310235</td>\n",
       "      <td>0.270798</td>\n",
       "      <td>0.289101</td>\n",
       "      <td>0.236815</td>\n",
       "      <td>-0.155929</td>\n",
       "      <td>0.136698</td>\n",
       "      <td>0.546364</td>\n",
       "      <td>-0.071747</td>\n",
       "      <td>0.072343</td>\n",
       "      <td>0.643720</td>\n",
       "    </tr>\n",
       "    <tr>\n",
       "      <th>malic_acid</th>\n",
       "      <td>0.094397</td>\n",
       "      <td>1.000000</td>\n",
       "      <td>0.164045</td>\n",
       "      <td>0.288500</td>\n",
       "      <td>-0.054575</td>\n",
       "      <td>-0.335167</td>\n",
       "      <td>-0.411007</td>\n",
       "      <td>0.292977</td>\n",
       "      <td>-0.220746</td>\n",
       "      <td>0.248985</td>\n",
       "      <td>-0.561296</td>\n",
       "      <td>-0.368710</td>\n",
       "      <td>-0.192011</td>\n",
       "    </tr>\n",
       "    <tr>\n",
       "      <th>ash</th>\n",
       "      <td>0.211545</td>\n",
       "      <td>0.164045</td>\n",
       "      <td>1.000000</td>\n",
       "      <td>0.443367</td>\n",
       "      <td>0.286587</td>\n",
       "      <td>0.128980</td>\n",
       "      <td>0.115077</td>\n",
       "      <td>0.186230</td>\n",
       "      <td>0.009652</td>\n",
       "      <td>0.258887</td>\n",
       "      <td>-0.074667</td>\n",
       "      <td>0.003911</td>\n",
       "      <td>0.223626</td>\n",
       "    </tr>\n",
       "    <tr>\n",
       "      <th>alcalinity_of_ash</th>\n",
       "      <td>-0.310235</td>\n",
       "      <td>0.288500</td>\n",
       "      <td>0.443367</td>\n",
       "      <td>1.000000</td>\n",
       "      <td>-0.083333</td>\n",
       "      <td>-0.321113</td>\n",
       "      <td>-0.351370</td>\n",
       "      <td>0.361922</td>\n",
       "      <td>-0.197327</td>\n",
       "      <td>0.018732</td>\n",
       "      <td>-0.273955</td>\n",
       "      <td>-0.276769</td>\n",
       "      <td>-0.440597</td>\n",
       "    </tr>\n",
       "    <tr>\n",
       "      <th>magnesium</th>\n",
       "      <td>0.270798</td>\n",
       "      <td>-0.054575</td>\n",
       "      <td>0.286587</td>\n",
       "      <td>-0.083333</td>\n",
       "      <td>1.000000</td>\n",
       "      <td>0.214401</td>\n",
       "      <td>0.195784</td>\n",
       "      <td>-0.256294</td>\n",
       "      <td>0.236441</td>\n",
       "      <td>0.199950</td>\n",
       "      <td>0.055398</td>\n",
       "      <td>0.066004</td>\n",
       "      <td>0.393351</td>\n",
       "    </tr>\n",
       "    <tr>\n",
       "      <th>total_phenols</th>\n",
       "      <td>0.289101</td>\n",
       "      <td>-0.335167</td>\n",
       "      <td>0.128980</td>\n",
       "      <td>-0.321113</td>\n",
       "      <td>0.214401</td>\n",
       "      <td>1.000000</td>\n",
       "      <td>0.864564</td>\n",
       "      <td>-0.449935</td>\n",
       "      <td>0.612413</td>\n",
       "      <td>-0.055136</td>\n",
       "      <td>0.433681</td>\n",
       "      <td>0.699949</td>\n",
       "      <td>0.498115</td>\n",
       "    </tr>\n",
       "    <tr>\n",
       "      <th>flavanoids</th>\n",
       "      <td>0.236815</td>\n",
       "      <td>-0.411007</td>\n",
       "      <td>0.115077</td>\n",
       "      <td>-0.351370</td>\n",
       "      <td>0.195784</td>\n",
       "      <td>0.864564</td>\n",
       "      <td>1.000000</td>\n",
       "      <td>-0.537900</td>\n",
       "      <td>0.652692</td>\n",
       "      <td>-0.172379</td>\n",
       "      <td>0.543479</td>\n",
       "      <td>0.787194</td>\n",
       "      <td>0.494193</td>\n",
       "    </tr>\n",
       "    <tr>\n",
       "      <th>nonflavanoid_phenols</th>\n",
       "      <td>-0.155929</td>\n",
       "      <td>0.292977</td>\n",
       "      <td>0.186230</td>\n",
       "      <td>0.361922</td>\n",
       "      <td>-0.256294</td>\n",
       "      <td>-0.449935</td>\n",
       "      <td>-0.537900</td>\n",
       "      <td>1.000000</td>\n",
       "      <td>-0.365845</td>\n",
       "      <td>0.139057</td>\n",
       "      <td>-0.262640</td>\n",
       "      <td>-0.503270</td>\n",
       "      <td>-0.311385</td>\n",
       "    </tr>\n",
       "    <tr>\n",
       "      <th>proanthocyanins</th>\n",
       "      <td>0.136698</td>\n",
       "      <td>-0.220746</td>\n",
       "      <td>0.009652</td>\n",
       "      <td>-0.197327</td>\n",
       "      <td>0.236441</td>\n",
       "      <td>0.612413</td>\n",
       "      <td>0.652692</td>\n",
       "      <td>-0.365845</td>\n",
       "      <td>1.000000</td>\n",
       "      <td>-0.025250</td>\n",
       "      <td>0.295544</td>\n",
       "      <td>0.519067</td>\n",
       "      <td>0.330417</td>\n",
       "    </tr>\n",
       "    <tr>\n",
       "      <th>color_intensity</th>\n",
       "      <td>0.546364</td>\n",
       "      <td>0.248985</td>\n",
       "      <td>0.258887</td>\n",
       "      <td>0.018732</td>\n",
       "      <td>0.199950</td>\n",
       "      <td>-0.055136</td>\n",
       "      <td>-0.172379</td>\n",
       "      <td>0.139057</td>\n",
       "      <td>-0.025250</td>\n",
       "      <td>1.000000</td>\n",
       "      <td>-0.521813</td>\n",
       "      <td>-0.428815</td>\n",
       "      <td>0.316100</td>\n",
       "    </tr>\n",
       "    <tr>\n",
       "      <th>hue</th>\n",
       "      <td>-0.071747</td>\n",
       "      <td>-0.561296</td>\n",
       "      <td>-0.074667</td>\n",
       "      <td>-0.273955</td>\n",
       "      <td>0.055398</td>\n",
       "      <td>0.433681</td>\n",
       "      <td>0.543479</td>\n",
       "      <td>-0.262640</td>\n",
       "      <td>0.295544</td>\n",
       "      <td>-0.521813</td>\n",
       "      <td>1.000000</td>\n",
       "      <td>0.565468</td>\n",
       "      <td>0.236183</td>\n",
       "    </tr>\n",
       "    <tr>\n",
       "      <th>od280/od315_of_diluted_wines</th>\n",
       "      <td>0.072343</td>\n",
       "      <td>-0.368710</td>\n",
       "      <td>0.003911</td>\n",
       "      <td>-0.276769</td>\n",
       "      <td>0.066004</td>\n",
       "      <td>0.699949</td>\n",
       "      <td>0.787194</td>\n",
       "      <td>-0.503270</td>\n",
       "      <td>0.519067</td>\n",
       "      <td>-0.428815</td>\n",
       "      <td>0.565468</td>\n",
       "      <td>1.000000</td>\n",
       "      <td>0.312761</td>\n",
       "    </tr>\n",
       "    <tr>\n",
       "      <th>proline</th>\n",
       "      <td>0.643720</td>\n",
       "      <td>-0.192011</td>\n",
       "      <td>0.223626</td>\n",
       "      <td>-0.440597</td>\n",
       "      <td>0.393351</td>\n",
       "      <td>0.498115</td>\n",
       "      <td>0.494193</td>\n",
       "      <td>-0.311385</td>\n",
       "      <td>0.330417</td>\n",
       "      <td>0.316100</td>\n",
       "      <td>0.236183</td>\n",
       "      <td>0.312761</td>\n",
       "      <td>1.000000</td>\n",
       "    </tr>\n",
       "  </tbody>\n",
       "</table>\n",
       "</div>"
      ],
      "text/plain": [
       "                               alcohol  malic_acid       ash  \\\n",
       "alcohol                       1.000000    0.094397  0.211545   \n",
       "malic_acid                    0.094397    1.000000  0.164045   \n",
       "ash                           0.211545    0.164045  1.000000   \n",
       "alcalinity_of_ash            -0.310235    0.288500  0.443367   \n",
       "magnesium                     0.270798   -0.054575  0.286587   \n",
       "total_phenols                 0.289101   -0.335167  0.128980   \n",
       "flavanoids                    0.236815   -0.411007  0.115077   \n",
       "nonflavanoid_phenols         -0.155929    0.292977  0.186230   \n",
       "proanthocyanins               0.136698   -0.220746  0.009652   \n",
       "color_intensity               0.546364    0.248985  0.258887   \n",
       "hue                          -0.071747   -0.561296 -0.074667   \n",
       "od280/od315_of_diluted_wines  0.072343   -0.368710  0.003911   \n",
       "proline                       0.643720   -0.192011  0.223626   \n",
       "\n",
       "                              alcalinity_of_ash  magnesium  total_phenols  \\\n",
       "alcohol                               -0.310235   0.270798       0.289101   \n",
       "malic_acid                             0.288500  -0.054575      -0.335167   \n",
       "ash                                    0.443367   0.286587       0.128980   \n",
       "alcalinity_of_ash                      1.000000  -0.083333      -0.321113   \n",
       "magnesium                             -0.083333   1.000000       0.214401   \n",
       "total_phenols                         -0.321113   0.214401       1.000000   \n",
       "flavanoids                            -0.351370   0.195784       0.864564   \n",
       "nonflavanoid_phenols                   0.361922  -0.256294      -0.449935   \n",
       "proanthocyanins                       -0.197327   0.236441       0.612413   \n",
       "color_intensity                        0.018732   0.199950      -0.055136   \n",
       "hue                                   -0.273955   0.055398       0.433681   \n",
       "od280/od315_of_diluted_wines          -0.276769   0.066004       0.699949   \n",
       "proline                               -0.440597   0.393351       0.498115   \n",
       "\n",
       "                              flavanoids  nonflavanoid_phenols  \\\n",
       "alcohol                         0.236815             -0.155929   \n",
       "malic_acid                     -0.411007              0.292977   \n",
       "ash                             0.115077              0.186230   \n",
       "alcalinity_of_ash              -0.351370              0.361922   \n",
       "magnesium                       0.195784             -0.256294   \n",
       "total_phenols                   0.864564             -0.449935   \n",
       "flavanoids                      1.000000             -0.537900   \n",
       "nonflavanoid_phenols           -0.537900              1.000000   \n",
       "proanthocyanins                 0.652692             -0.365845   \n",
       "color_intensity                -0.172379              0.139057   \n",
       "hue                             0.543479             -0.262640   \n",
       "od280/od315_of_diluted_wines    0.787194             -0.503270   \n",
       "proline                         0.494193             -0.311385   \n",
       "\n",
       "                              proanthocyanins  color_intensity       hue  \\\n",
       "alcohol                              0.136698         0.546364 -0.071747   \n",
       "malic_acid                          -0.220746         0.248985 -0.561296   \n",
       "ash                                  0.009652         0.258887 -0.074667   \n",
       "alcalinity_of_ash                   -0.197327         0.018732 -0.273955   \n",
       "magnesium                            0.236441         0.199950  0.055398   \n",
       "total_phenols                        0.612413        -0.055136  0.433681   \n",
       "flavanoids                           0.652692        -0.172379  0.543479   \n",
       "nonflavanoid_phenols                -0.365845         0.139057 -0.262640   \n",
       "proanthocyanins                      1.000000        -0.025250  0.295544   \n",
       "color_intensity                     -0.025250         1.000000 -0.521813   \n",
       "hue                                  0.295544        -0.521813  1.000000   \n",
       "od280/od315_of_diluted_wines         0.519067        -0.428815  0.565468   \n",
       "proline                              0.330417         0.316100  0.236183   \n",
       "\n",
       "                              od280/od315_of_diluted_wines   proline  \n",
       "alcohol                                           0.072343  0.643720  \n",
       "malic_acid                                       -0.368710 -0.192011  \n",
       "ash                                               0.003911  0.223626  \n",
       "alcalinity_of_ash                                -0.276769 -0.440597  \n",
       "magnesium                                         0.066004  0.393351  \n",
       "total_phenols                                     0.699949  0.498115  \n",
       "flavanoids                                        0.787194  0.494193  \n",
       "nonflavanoid_phenols                             -0.503270 -0.311385  \n",
       "proanthocyanins                                   0.519067  0.330417  \n",
       "color_intensity                                  -0.428815  0.316100  \n",
       "hue                                               0.565468  0.236183  \n",
       "od280/od315_of_diluted_wines                      1.000000  0.312761  \n",
       "proline                                           0.312761  1.000000  "
      ]
     },
     "execution_count": 23,
     "metadata": {},
     "output_type": "execute_result"
    }
   ],
   "source": [
    "print(\"4.\\nla corrélation linéaire de Peason par paire des variables est de:\")\n",
    "wine_df.corr()"
   ]
  },
  {
   "cell_type": "markdown",
   "metadata": {
    "id": "zC2cPCxmyBpR"
   },
   "source": [
    "-------------------------------------------"
   ]
  },
  {
   "cell_type": "markdown",
   "metadata": {
    "id": "uIGpt7c1yE8Z"
   },
   "source": [
    "## Job 16\n",
    "Une loi de probabilité décrit le comportement aléatoire d'un phénomène dépendant du hasard tels que les lancers de pièces, les dés, les jeux de cartes, et d'autres événements plus complexes.\n",
    "\n",
    "Considérons la Loi Normale, l'unes des plus importantes en probabilités et en statistique. Les lois normales sont parmi les lois de probabilité les plus utilisées pour modéliser des phénomènes naturels issus de plusieurs événements aléatoires. Elle est caractérisée par sa forme en cloche symétrique.\n",
    "\n",
    "**Simulez la Loi Normale $\\mathcal{N}(0, 1)$ où la moyenne est $0$ et l'écart-type est $1$ :**\n",
    "1. Générez des échantillons à partir de la distribution normale en utilisant la fonction `np.random.normal`\n",
    "\n",
    "2. Affichez l'histogramme des données\n",
    "\n",
    "3. Tracez la courbe de densité de probabilité théorique de $\\mathcal{N}(0, 1)$ en traçant la fonction $f(x)$ ci-dessous :\n",
    "\n",
    "$$ f(x) = \\frac{1}{1 \\sqrt{2\\pi}} \\times e^{-\\frac{1}{2} \\times x^2 }$$"
   ]
  },
  {
   "cell_type": "code",
   "execution_count": 24,
   "metadata": {
    "id": "YL8L6xcCzoDQ"
   },
   "outputs": [
    {
     "data": {
      "image/png": "[encoded data removed]",
      "text/plain": [
       "<Figure size 640x480 with 1 Axes>"
      ]
     },
     "metadata": {},
     "output_type": "display_data"
    }
   ],
   "source": [
    "# from scipy.stats import norm\n",
    "import scipy.stats as stats\n",
    "\n",
    "echantillons = np.random.normal(0, 1, 1000)\n",
    "\n",
    "# Affichez l'histogramme des données + la densité de la loi normale\n",
    "plt.hist(echantillons, bins=50, density=True)\n",
    "x = np.linspace(-4, 4, 100)\n",
    "plt.plot(x, stats.norm.pdf(x, loc=0, scale=1))\n",
    "plt.legend([\"loi normale\", \"echantillons\"])\n",
    "plt.show()"
   ]
  },
  {
   "cell_type": "markdown",
   "metadata": {
    "id": "MzR1Pu8BwXih"
   },
   "source": [
    "----------------------------------"
   ]
  },
  {
   "cell_type": "markdown",
   "metadata": {
    "id": "HM9Q73J0U9WB"
   },
   "source": [
    "# Calcul de dérivée"
   ]
  },
  {
   "cell_type": "markdown",
   "metadata": {
    "id": "EzuMXD8pP5CX",
    "tags": []
   },
   "source": [
    "## Job 17\n",
    "\n",
    "En mathématiques, la dérivée d'une fonction d'une variable réelle mesure l'ampleur du changement de la valeur de la fonction (valeur de sortie) par rapport à un petit changement de son argument (valeur d'entrée). Les calculs de dérivées sont un outil fondamental du calcul infinitésimal. Par exemple, la dérivée de la position d'un objet en mouvement par rapport au temps est la vitesse (instantanée) de l'objet.\n",
    "\n",
    "\\\n",
    "\n",
    "Calculez la dérivée des fonctions suivantes à l'aide la librairie `SymPy` :\n",
    "\n",
    "1. $f(x) = 3x^2 - 2x + 5$\n",
    "\n",
    "2. $g(x) = \\frac{2}{x^2}$\n",
    "\n",
    "3. $h(x) = \\sqrt{3x - 1}$\n",
    "\n",
    "4. $k(x) = e^{x}$\n",
    "\n",
    "5. $l(x) = ln(x)$\n",
    "\n",
    "6. $p(x) = \\sqrt{x} + 2x^3$\n",
    "\n",
    "7. $q(x) = sin(x)$\n",
    "\n",
    "8. $r(x) = \\frac{x^2 + 1}{x-1}$"
   ]
  },
  {
   "cell_type": "code",
   "execution_count": 25,
   "metadata": {
    "id": "v1S2lF7iUbGd"
   },
   "outputs": [
    {
     "name": "stdout",
     "output_type": "stream",
     "text": [
      "- f'(x) = 6*x - 2\n",
      "- g'(x) = -4/x**3\n",
      "- h'(x) = 3/(2*sqrt(3*x - 1))\n",
      "- k'(x) = exp(x)\n",
      "- l'(x) = 1/x\n",
      "- p'(x) = 6*x**2 + 1/(2*sqrt(x))\n",
      "- q'(x) = cos(x)\n",
      "- r'(x) = 2*x/(x - 1) - (x**2 + 1)/(x - 1)**2\n"
     ]
    }
   ],
   "source": [
    "x = sp.Symbol('x')\n",
    "f = 3*x**2 - 2*x + 5\n",
    "g = 2/x**2\n",
    "h = sp.sqrt(3*x - 1)\n",
    "k = sp.exp(x)\n",
    "l = sp.ln(x)\n",
    "p = sp.sqrt(x) + 2*x**3\n",
    "q = sp.sin(x)\n",
    "r = (x**2 + 1)/(x - 1)\n",
    "\n",
    "functions = {\"f\":f, \"g\":g, \"h\":h, \"k\":k, \"l\":l, \"p\":p, \"q\":q, \"r\":r}\n",
    "for func in functions:\n",
    "    prime = functions[func].diff(x)\n",
    "    print(f\"- {func}'(x) = {prime}\")"
   ]
  },
  {
   "cell_type": "markdown",
   "metadata": {
    "id": "lCCEJlbCYbOG"
   },
   "source": [
    "----------------------------------------------------------------------"
   ]
  },
  {
   "cell_type": "markdown",
   "metadata": {
    "id": "MF70NYVuJNty"
   },
   "source": [
    "# Toujours plus loin..."
   ]
  },
  {
   "cell_type": "markdown",
   "metadata": {
    "id": "uA0coLJoPxyx"
   },
   "source": [
    "## **Job Bonus 1**\n",
    "A l'aide de ce que vous avez appris dans le *job 16*, réalisez une simulation du **Théorème Central Limit**.\n",
    "\n",
    "*Pour des raisons d'organisation et de lisibilité de votre notebook, créez votre implémentation dans des fichiers .py que vous viendrez appeler à l'aide de la cellule ci-dessous :*"
   ]
  },
  {
   "cell_type": "code",
   "execution_count": 26,
   "metadata": {
    "id": "RVbjzQVXP1kL"
   },
   "outputs": [
    {
     "name": "stdout",
     "output_type": "stream",
     "text": [
      "Moyenne des moyennes:  0.4999551615172766\n",
      "Variance des moyennes:  0.000812107669182293\n",
      "\n"
     ]
    },
    {
     "data": {
      "image/png": "[encoded data removed]",
      "text/plain": [
       "<Figure size 640x480 with 1 Axes>"
      ]
     },
     "metadata": {},
     "output_type": "display_data"
    },
    {
     "data": {
      "image/png": "[encoded data removed]",
      "text/plain": [
       "<Figure size 640x480 with 1 Axes>"
      ]
     },
     "metadata": {},
     "output_type": "display_data"
    },
    {
     "data": {
      "image/png": "[encoded data removed]",
      "text/plain": [
       "<Figure size 640x480 with 1 Axes>"
      ]
     },
     "metadata": {},
     "output_type": "display_data"
    }
   ],
   "source": [
    "from clt import *\n",
    "\n",
    "# Simulation du CLT pour un tirage de n=100 (lancés de pièce) après N=10000 répétitions\n",
    "# libre à vous de manipuler n et N afin d'observer l'impact de la taille de l'échantillon sur le résultat\n",
    "\n",
    "n = 100\n",
    "N = 10000\n",
    "Z, V = clt(n, N)\n",
    "print(\"Moyenne des moyennes: \", Z)\n",
    "print(\"Variance des moyennes: \", V)\n",
    "print(\"\")\n",
    "visualize_clt(n, N)"
   ]
  },
  {
   "cell_type": "markdown",
   "metadata": {
    "id": "iUoIMe-JYdrP"
   },
   "source": [
    "----------------------------------------------------------------------"
   ]
  },
  {
   "cell_type": "markdown",
   "metadata": {
    "id": "JIQ8RlMGwZyt"
   },
   "source": [
    "## **Job Bonus 2**\n",
    "\n",
    "**Un algorithme de tri, notion fondamentale en informatique ou en mathématiques, est un algorithme qui permet d'organiser une collection d'objets selon une relation d'ordre déterminée. Suivant la relation d'ordre considérée, une même collection d’objet peut donner lieu à divers arrangements.**\n",
    "\n",
    "Par exemple, on pourrait trier un tableau `tab` d'entiers naturels de $1$ à $N$ dans un ordre croissant ou décroissant.\n",
    "\n",
    "L'implémentation des algorithmes de tri est un excellent exercice pour comprendre des concepts fondamentaux de la programmation, comprendre d'autres algorithmes et se préparer à des entretiens techniques.\n",
    "\n",
    "Tentez d'implémenter un ou plusieurs des algorithmes de tri suivants :\n",
    "\n",
    "* **Tri à bulles (bubble sort)**\n",
    "* **Tri par insertion (Insertion sort)**\n",
    "* **Tri fusion (merge sort)**\n",
    "* **Tri rapide (quick sort)**\n",
    "\n",
    "\n",
    "\n",
    "*Pour des raisons d'organisation et lisibilité de votre notebook, créez vos différentes implémentations des algorithmes de tri dans des fichiers .py que vous viendrez appeler à l'aide de la cellule ci-dessous :*"
   ]
  },
  {
   "cell_type": "code",
   "execution_count": 27,
   "metadata": {
    "id": "q3BmeEQSxM0g",
    "tags": []
   },
   "outputs": [
    {
     "name": "stdout",
     "output_type": "stream",
     "text": [
      "Liste originale:\n",
      " [41 40 43 72 40 11 14 61 48 52 88 23  2 20 19 21 23 37 22 23 56 76 98 24]\n",
      "\n",
      "- Liste triée à l'aide de l'algorithme de tri à bulles:\n",
      " [ 2 11 14 19 20 21 22 23 23 23 24 37 40 40 41 43 48 52 56 61 72 76 88 98]\n",
      "- Liste triée à l'aide de l'algorithme de tri par insertion:\n",
      " [ 2 11 14 19 20 21 22 23 23 23 24 37 40 40 41 43 48 52 56 61 72 76 88 98]\n",
      "- Liste triée à l'aide de l'algorithme de tri fusion:\n",
      " [ 2 11 14 19 20 21 22 23 23 23 24 37 40 40 41 43 48 52 56 61 72 76 88 98]\n",
      "- Liste triée à l'aide de l'algorithme de tri rapide:\n",
      " [ 2 11 14 19 20 21 22 23 23 23 24 37 40 40 41 43 48 52 56 61 72 76 88 98]\n"
     ]
    }
   ],
   "source": [
    "from algotri import *\n",
    "\n",
    "# liste à trier\n",
    "input_list = [64, 34, 25, 12, 22, 11, 90]\n",
    "input_list = np.random.randint(100, size=24)\n",
    "\n",
    "print(\"Liste originale:\\n\", input_list)\n",
    "print(\"\")\n",
    "bubble_sort = bubble_sort(input_list)\n",
    "insertion_sort = insertion_sort(input_list)\n",
    "merge_sort = np.array(merge_sort(input_list))\n",
    "quick_sort =  np.array(quick_sort(input_list))\n",
    "algos = {\"tri à bulles\": bubble_sort, \"tri par insertion\":insertion_sort, \"tri fusion\":merge_sort, \"tri rapide\":quick_sort}\n",
    "# Tri de la list à l'aide d'un algorithme donné - ?\n",
    "for algo in algos:\n",
    "    print(f\"- Liste triée à l'aide de l'algorithme de {algo}:\\n {algos[algo]}\")"
   ]
  }
 ],
 "metadata": {
  "colab": {
   "provenance": []
  },
  "kernelspec": {
   "display_name": "Python 3 (ipykernel)",
   "language": "python",
   "name": "python3"
  },
  "language_info": {
   "codemirror_mode": {
    "name": "ipython",
    "version": 3
   },
   "file_extension": ".py",
   "mimetype": "text/x-python",
   "name": "python",
   "nbconvert_exporter": "python",
   "pygments_lexer": "ipython3",
   "version": "3.11.3"
  }
 },
 "nbformat": 4,
 "nbformat_minor": 4
}
